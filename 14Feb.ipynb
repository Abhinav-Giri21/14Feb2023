{
 "cells": [
  {
   "cell_type": "code",
   "execution_count": null,
   "id": "02a4adab-c5fe-4dfe-badb-25121d1bef23",
   "metadata": {},
   "outputs": [],
   "source": [
    "'''Q1.What is multithreading in python? hy is it used? Name the module used to handle threads in python.\n",
    "Ans.Multithreading in Python refers to the ability of a program to execute multiple threads simultaneously, where each thread represents an independent\n",
    "flow of control.It allows concurrent execution of multiple parts of a program, with each thread running in parallel and performing different tasks.\n",
    "Threading module is used to handle threads in python.\n"
   ]
  },
  {
   "cell_type": "code",
   "execution_count": null,
   "id": "779dc9ac-1561-4c0c-b47e-ca45f77fc674",
   "metadata": {},
   "outputs": [],
   "source": [
    "'''Q2.Why threading module used?Write the use of the following functions\n",
    "1.activeCount\n",
    "2.currentThread\n",
    "3.enumerate\n",
    "\n",
    "Ans.The threading module is used to handle threads in Python.It provides a high-level interface for creating, managing, and synchronizing threads.\n",
    "Functions in the threading module:\n",
    "\n",
    "activeCount(): Returns the number of Thread objects currently alive.\n",
    "currentThread(): Returns the currently executing Thread object.\n",
    "enumerate(): Returns a list of all Thread objects currently alive.'''"
   ]
  },
  {
   "cell_type": "code",
   "execution_count": null,
   "id": "11e40e54-521e-4e87-912a-f3a1d6b429bb",
   "metadata": {},
   "outputs": [],
   "source": [
    "'''Q3.Explain the following functions\n",
    "1.run\n",
    "2.start\n",
    "3.join\n",
    "4.isAlive\n",
    "\n",
    "Ans:1.run(): Represents the code to be executed by a thread when started. It needs to be overridden in a custom thread class to define the thread's \n",
    "behavior.\n",
    "2.start(): Initiates the execution of a thread by calling its run() method.\n",
    "3.join(): Blocks the calling thread until the thread on which it's called completes its execution.\n",
    "4.isAlive(): Returns True if the thread is currently executing."
   ]
  },
  {
   "cell_type": "code",
   "execution_count": 1,
   "id": "c014acf2-4d39-4cb0-9150-f2e503a155d9",
   "metadata": {},
   "outputs": [
    {
     "name": "stdout",
     "output_type": "stream",
     "text": [
      "1\n",
      "4\n",
      "9\n",
      "16\n",
      "25\n",
      "1\n",
      "8\n",
      "27\n",
      "64\n",
      "125\n"
     ]
    }
   ],
   "source": [
    "'''Q4.Write a python program to create two threads.Thread one must print the list of squares and thread\n",
    "two must print the list of cubes'''\n",
    "import threading\n",
    "\n",
    "def print_squares():\n",
    "    for i in range(1, 6):\n",
    "        print(i * i)\n",
    "\n",
    "def print_cubes():\n",
    "    for i in range(1, 6):\n",
    "        print(i * i * i)\n",
    "\n",
    "if __name__ == \"__main__\":\n",
    "    thread1=threading.Thread(target=print_squares)\n",
    "    thread2=threading.Thread(target=print_cubes)\n",
    "\n",
    "    thread1.start()\n",
    "    thread2.start()\n",
    "\n"
   ]
  },
  {
   "cell_type": "code",
   "execution_count": null,
   "id": "6d40d86c-a127-409d-85b1-8bd102a4ffd1",
   "metadata": {},
   "outputs": [],
   "source": [
    "'''Q5.State advantages and disadvantages of multithreading\n",
    "Ans.Advantages of multithreading:\n",
    "\n",
    "1.Improved performance and resource utilization by making use of available CPU cores.\n",
    "2.Enhanced responsiveness in programs that involve concurrent tasks or input/output operations.\n",
    "3.Simplified programming for concurrent tasks compared to using multiple processes.\n",
    "4.Efficient utilization of system resources by minimizing the overhead of creating and managing separate processes.\n",
    "\n",
    "Disadvantages of multithreading:\n",
    "\n",
    "1.Increased complexity due to the need for proper synchronization and handling of shared resources.\n",
    "2.Possibility of introducing hard-to-debug issues such as race conditions and deadlocks.\n",
    "3.Limited scalability on single-core systems or when the program is primarily bound by a single resource (e.g., disk I/O).'''"
   ]
  },
  {
   "cell_type": "code",
   "execution_count": null,
   "id": "9db0f2f8-d99a-44c8-b847-5323041803dc",
   "metadata": {},
   "outputs": [],
   "source": [
    "'''Q6.Explain deadlocks and race conditions.\n",
    "Ans.Deadlocks and race conditions are common issues in concurrent programming:\n",
    "\n",
    "Deadlock:A deadlock occurs when two or more threads are blocked indefinitely, waiting for each other to release resources.This situation typically \n",
    "arises when multiple threads acquire locks on resources in different orders,leading to a circular dependency.As a result,the threads are unable to\n",
    "proceed,and the program hangs.\n",
    "\n",
    "Race condition:A race condition means that your program's result might depend on the order of execution of the individual steps.This becomes essential\n",
    "in concurrent programs that can run multiple threads of execution simultaneously through context switching,and they access a shared resource like a \n",
    "variable."
   ]
  }
 ],
 "metadata": {
  "kernelspec": {
   "display_name": "Python 3 (ipykernel)",
   "language": "python",
   "name": "python3"
  },
  "language_info": {
   "codemirror_mode": {
    "name": "ipython",
    "version": 3
   },
   "file_extension": ".py",
   "mimetype": "text/x-python",
   "name": "python",
   "nbconvert_exporter": "python",
   "pygments_lexer": "ipython3",
   "version": "3.10.8"
  }
 },
 "nbformat": 4,
 "nbformat_minor": 5
}
